{
 "cells": [
  {
   "cell_type": "code",
   "execution_count": 10,
   "metadata": {},
   "outputs": [],
   "source": [
    "import numpy as np\n",
    "from flask import Flask, request, jsonify, render_template\n",
    "import pickle"
   ]
  },
  {
   "cell_type": "code",
   "execution_count": 11,
   "metadata": {},
   "outputs": [],
   "source": [
    "# Load the Random Forest CLassifier model\n",
    "filename = 'ipl_lasso.pkl'\n",
    "regressor = pickle.load(open(filename, 'rb'))"
   ]
  },
  {
   "cell_type": "code",
   "execution_count": 12,
   "metadata": {},
   "outputs": [],
   "source": [
    "app=Flask(__name__)"
   ]
  },
  {
   "cell_type": "code",
   "execution_count": 13,
   "metadata": {},
   "outputs": [],
   "source": [
    "@app.route('/')\n",
    "def home():\n",
    "    return render_template('index.html')"
   ]
  },
  {
   "cell_type": "code",
   "execution_count": 14,
   "metadata": {},
   "outputs": [],
   "source": [
    "@app.route('/predict', methods=['POST'])\n",
    "def predict():\n",
    "    temp_array = list()\n",
    "    \n",
    "    if request.method == 'POST':\n",
    "        \n",
    "        batting_team = request.form['batting-team']\n",
    "        if batting_team == 'Chennai Super Kings':\n",
    "            temp_array = temp_array + [1,0,0,0,0,0,0,0]\n",
    "        elif batting_team == 'Delhi Daredevils':\n",
    "            temp_array = temp_array + [0,1,0,0,0,0,0,0]\n",
    "        elif batting_team == 'Kings XI Punjab':\n",
    "            temp_array = temp_array + [0,0,1,0,0,0,0,0]\n",
    "        elif batting_team == 'Kolkata Knight Riders':\n",
    "            temp_array = temp_array + [0,0,0,1,0,0,0,0]\n",
    "        elif batting_team == 'Mumbai Indians':\n",
    "            temp_array = temp_array + [0,0,0,0,1,0,0,0]\n",
    "        elif batting_team == 'Rajasthan Royals':\n",
    "            temp_array = temp_array + [0,0,0,0,0,1,0,0]\n",
    "        elif batting_team == 'Royal Challengers Bangalore':\n",
    "            temp_array = temp_array + [0,0,0,0,0,0,1,0]\n",
    "        elif batting_team == 'Sunrisers Hyderabad':\n",
    "            temp_array = temp_array + [0,0,0,0,0,0,0,1]\n",
    "            \n",
    "            \n",
    "        bowling_team = request.form['bowling-team']\n",
    "        if bowling_team == 'Chennai Super Kings':\n",
    "            temp_array = temp_array + [1,0,0,0,0,0,0,0]\n",
    "        elif bowling_team == 'Delhi Daredevils':\n",
    "            temp_array = temp_array + [0,1,0,0,0,0,0,0]\n",
    "        elif bowling_team == 'Kings XI Punjab':\n",
    "            temp_array = temp_array + [0,0,1,0,0,0,0,0]\n",
    "        elif bowling_team == 'Kolkata Knight Riders':\n",
    "            temp_array = temp_array + [0,0,0,1,0,0,0,0]\n",
    "        elif bowling_team == 'Mumbai Indians':\n",
    "            temp_array = temp_array + [0,0,0,0,1,0,0,0]\n",
    "        elif bowling_team == 'Rajasthan Royals':\n",
    "            temp_array = temp_array + [0,0,0,0,0,1,0,0]\n",
    "        elif bowling_team == 'Royal Challengers Bangalore':\n",
    "            temp_array = temp_array + [0,0,0,0,0,0,1,0]\n",
    "        elif bowling_team == 'Sunrisers Hyderabad':\n",
    "            temp_array = temp_array + [0,0,0,0,0,0,0,1]\n",
    "            \n",
    "            \n",
    "        overs = float(request.form['overs'])\n",
    "        runs = int(request.form['runs'])\n",
    "        wickets = int(request.form['wickets'])\n",
    "        runs_in_prev_5 = int(request.form['runs_in_prev_5'])\n",
    "        wickets_in_prev_5 = int(request.form['wickets_in_prev_5'])\n",
    "        \n",
    "        temp_array = temp_array + [overs, runs, wickets, runs_in_prev_5, wickets_in_prev_5]\n",
    "        \n",
    "        data = np.array([temp_array])\n",
    "        my_prediction = int(regressor.predict(data)[0])\n",
    "              \n",
    "        return render_template('result.html', lower_limit = my_prediction-10, upper_limit = my_prediction+5)\n"
   ]
  },
  {
   "cell_type": "code",
   "execution_count": null,
   "metadata": {},
   "outputs": [],
   "source": []
  }
 ],
 "metadata": {
  "kernelspec": {
   "display_name": "Python 3",
   "language": "python",
   "name": "python3"
  },
  "language_info": {
   "codemirror_mode": {
    "name": "ipython",
    "version": 3
   },
   "file_extension": ".py",
   "mimetype": "text/x-python",
   "name": "python",
   "nbconvert_exporter": "python",
   "pygments_lexer": "ipython3",
   "version": "3.7.6"
  }
 },
 "nbformat": 4,
 "nbformat_minor": 4
}
